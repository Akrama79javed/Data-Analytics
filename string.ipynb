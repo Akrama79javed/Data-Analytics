{
 "cells": [
  {
   "attachments": {},
   "cell_type": "markdown",
   "metadata": {},
   "source": [
    "-STRINGS\n",
    "\n",
    ". create\n",
    ". indexing\n",
    ". slicing\n",
    ". methods "
   ]
  },
  {
   "cell_type": "code",
   "execution_count": 1,
   "metadata": {},
   "outputs": [],
   "source": [
    "a = 'this is a string' # single quotes\n",
    "b = \"this is another string\" # double quotes\n",
    "c = '''this is a string \n",
    "with two lines''' # triple quotes \n",
    "d =  b'this is a byte string' # byte string \n",
    "e = u'this is a \\nunicode string' # unicode string\n",
    "f = r'this is a \\nraw string' #raw string "
   ]
  },
  {
   "cell_type": "code",
   "execution_count": 2,
   "metadata": {},
   "outputs": [
    {
     "name": "stdout",
     "output_type": "stream",
     "text": [
      "this is a \n",
      "unicode string\n",
      "this is a \\nraw string\n"
     ]
    }
   ],
   "source": [
    "print(e)\n",
    "print(f)"
   ]
  },
  {
   "cell_type": "code",
   "execution_count": null,
   "metadata": {},
   "outputs": [],
   "source": []
  }
 ],
 "metadata": {
  "kernelspec": {
   "display_name": "base",
   "language": "python",
   "name": "python3"
  },
  "language_info": {
   "codemirror_mode": {
    "name": "ipython",
    "version": 3
   },
   "file_extension": ".py",
   "mimetype": "text/x-python",
   "name": "python",
   "nbconvert_exporter": "python",
   "pygments_lexer": "ipython3",
   "version": "3.10.10"
  },
  "orig_nbformat": 4
 },
 "nbformat": 4,
 "nbformat_minor": 2
}

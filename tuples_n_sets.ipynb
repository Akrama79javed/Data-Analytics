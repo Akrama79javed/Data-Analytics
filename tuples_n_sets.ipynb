{
 "cells": [
  {
   "cell_type": "code",
   "execution_count": 1,
   "metadata": {},
   "outputs": [
    {
     "name": "stdout",
     "output_type": "stream",
     "text": [
      "(12, 13, 50)\n",
      "<class 'tuple'>\n"
     ]
    }
   ],
   "source": [
    "a = 12,13,50 # tuple packing \n",
    "print(a)\n",
    "print(type(a))"
   ]
  },
  {
   "cell_type": "code",
   "execution_count": 2,
   "metadata": {},
   "outputs": [
    {
     "name": "stdout",
     "output_type": "stream",
     "text": [
      "13\n",
      "<class 'int'>\n"
     ]
    }
   ],
   "source": [
    "b= (13)\n",
    "print(b)\n",
    "print(type(b))"
   ]
  },
  {
   "cell_type": "code",
   "execution_count": 3,
   "metadata": {},
   "outputs": [
    {
     "name": "stdout",
     "output_type": "stream",
     "text": [
      "12 13 50\n"
     ]
    }
   ],
   "source": [
    "x1,x2,x3 =a #a has 3 element \n",
    "print(x1,x2,x3)"
   ]
  },
  {
   "cell_type": "code",
   "execution_count": 4,
   "metadata": {},
   "outputs": [
    {
     "name": "stdout",
     "output_type": "stream",
     "text": [
      "1 2 [4, 5, 6, 7, 8, 9, 10]\n"
     ]
    }
   ],
   "source": [
    "a=(1,2,4,5,6,7,8,9,10)\n",
    "a1,a2, *a3 =a #a3 will get the remaning element as a list \n",
    "print(a1,a2,a3)"
   ]
  },
  {
   "cell_type": "code",
   "execution_count": 5,
   "metadata": {},
   "outputs": [
    {
     "data": {
      "text/plain": [
       "(6, 7, 8, 9, 10)"
      ]
     },
     "execution_count": 5,
     "metadata": {},
     "output_type": "execute_result"
    }
   ],
   "source": [
    "a[4:]"
   ]
  },
  {
   "cell_type": "code",
   "execution_count": 6,
   "metadata": {},
   "outputs": [
    {
     "data": {
      "text/plain": [
       "(1, 2, 4, 5)"
      ]
     },
     "execution_count": 6,
     "metadata": {},
     "output_type": "execute_result"
    }
   ],
   "source": [
    "a[:4]"
   ]
  },
  {
   "cell_type": "code",
   "execution_count": 8,
   "metadata": {},
   "outputs": [
    {
     "name": "stdout",
     "output_type": "stream",
     "text": [
      "1\n",
      "2\n",
      "4\n",
      "5\n",
      "6\n",
      "7\n",
      "8\n",
      "9\n",
      "10\n"
     ]
    }
   ],
   "source": [
    "for i in a:\n",
    "    print(i)"
   ]
  },
  {
   "cell_type": "code",
   "execution_count": 13,
   "metadata": {},
   "outputs": [
    {
     "name": "stdout",
     "output_type": "stream",
     "text": [
      "5\n",
      "5\n",
      "0\n",
      "5\n"
     ]
    }
   ],
   "source": [
    "x= (1,2,3,1,2,3,1,2,3,1,2,3,1,2,3)\n",
    "print(x.count(1))\n",
    "print(x.count(2))# 2 is the value to  search \n",
    "print(x.count(5))\n",
    "print(x.index(3,5)) # 1 is the value to search and 5 is the starting index "
   ]
  },
  {
   "cell_type": "code",
   "execution_count": 14,
   "metadata": {},
   "outputs": [
    {
     "name": "stdout",
     "output_type": "stream",
     "text": [
      "(1, 2, 3)\n",
      "[1, 2, 3]\n"
     ]
    }
   ],
   "source": [
    "a= [1,2,3]\n",
    "at= tuple (a)\n",
    "al= list(at)\n",
    "print(at)\n",
    "print(al)"
   ]
  },
  {
   "cell_type": "code",
   "execution_count": 15,
   "metadata": {},
   "outputs": [
    {
     "name": "stdout",
     "output_type": "stream",
     "text": [
      "{1, 2, 3}\n",
      "<class 'set'>\n"
     ]
    }
   ],
   "source": [
    "s={1,2,3,1,2,3,1,2,3}\n",
    "print(s)\n",
    "print(type(s))"
   ]
  },
  {
   "cell_type": "code",
   "execution_count": 16,
   "metadata": {},
   "outputs": [
    {
     "name": "stdout",
     "output_type": "stream",
     "text": [
      "set()\n",
      "<class 'set'>\n"
     ]
    }
   ],
   "source": [
    "s1= set()#empty set\n",
    "print(s1)\n",
    "print(type(s1))"
   ]
  },
  {
   "cell_type": "code",
   "execution_count": 18,
   "metadata": {},
   "outputs": [
    {
     "name": "stdout",
     "output_type": "stream",
     "text": [
      "{'hello', 'bruce', 3, 4}\n"
     ]
    }
   ],
   "source": [
    "s1.add(3)\n",
    "s1.add(4)\n",
    "s1.add('hello')\n",
    "s1.add('bruce')\n",
    "s1.add(3)\n",
    "print(s1)"
   ]
  },
  {
   "cell_type": "code",
   "execution_count": 19,
   "metadata": {},
   "outputs": [
    {
     "name": "stdout",
     "output_type": "stream",
     "text": [
      "{'hello', 'bruce', 4}\n"
     ]
    }
   ],
   "source": [
    "s1.discard(3)# remove 3 from the set\n",
    "print(s1)"
   ]
  },
  {
   "cell_type": "code",
   "execution_count": 22,
   "metadata": {},
   "outputs": [
    {
     "name": "stdout",
     "output_type": "stream",
     "text": [
      "hello\n",
      "bruce\n",
      "4\n"
     ]
    }
   ],
   "source": [
    "for i in s1:\n",
    "    print (i)"
   ]
  },
  {
   "cell_type": "code",
   "execution_count": 21,
   "metadata": {},
   "outputs": [
    {
     "name": "stdout",
     "output_type": "stream",
     "text": [
      "['a', 'k', 'r', 'a', 'm', 'a', ' ', 'j', 'a', 'v', 'e', 'd']\n"
     ]
    }
   ],
   "source": [
    "name= list('akrama javed')\n",
    "print(name)"
   ]
  },
  {
   "cell_type": "code",
   "execution_count": 23,
   "metadata": {},
   "outputs": [],
   "source": [
    "#set  operations \n",
    "group1= {'apple','bannana','grapes','watermelon','mango','cherry'}\n",
    "group2 ={'apple','cherry','watermelon','kiwi','papaya'}"
   ]
  },
  {
   "cell_type": "code",
   "execution_count": 26,
   "metadata": {},
   "outputs": [
    {
     "name": "stdout",
     "output_type": "stream",
     "text": [
      "{'mango', 'apple', 'cherry', 'kiwi', 'papaya', 'watermelon', 'grapes', 'bannana'}\n",
      "{'mango', 'apple', 'cherry', 'kiwi', 'papaya', 'watermelon', 'grapes', 'bannana'}\n"
     ]
    }
   ],
   "source": [
    "#union \n",
    "print(group1|group2)\n",
    "print(group1.union(group2))"
   ]
  },
  {
   "cell_type": "code",
   "execution_count": 27,
   "metadata": {},
   "outputs": [
    {
     "name": "stdout",
     "output_type": "stream",
     "text": [
      "{'apple', 'watermelon', 'cherry'}\n",
      "{'apple', 'watermelon', 'cherry'}\n"
     ]
    }
   ],
   "source": [
    "#intersection \n",
    "print(group1 & group2)\n",
    "print(group1. intersection(group2))"
   ]
  },
  {
   "cell_type": "code",
   "execution_count": 29,
   "metadata": {},
   "outputs": [
    {
     "name": "stdout",
     "output_type": "stream",
     "text": [
      "{'mango', 'bannana', 'grapes'}\n",
      "{'kiwi', 'papaya'}\n",
      "{'kiwi', 'papaya'}\n"
     ]
    }
   ],
   "source": [
    "#difference\n",
    "print(group1-group2)#element in g1 but not in g2\n",
    "print(group2-group1)#element i  g2 but not in g1\n",
    "print (group2.difference(group1))"
   ]
  },
  {
   "cell_type": "code",
   "execution_count": 30,
   "metadata": {},
   "outputs": [
    {
     "name": "stdout",
     "output_type": "stream",
     "text": [
      "{'papaya', 'mango', 'grapes', 'bannana', 'kiwi'}\n",
      "{'papaya', 'mango', 'grapes', 'bannana', 'kiwi'}\n"
     ]
    }
   ],
   "source": [
    "# symmetric diffrence \n",
    "print(group1 ^ group2)# element in g1 and g2 but not in both\n",
    "print(group1.symmetric_difference(group2))"
   ]
  },
  {
   "cell_type": "code",
   "execution_count": 43,
   "metadata": {},
   "outputs": [],
   "source": [
    "reports =[\n",
    "['ICHIGO',[\n",
    "    ['MATHS',78],\n",
    "    ['SCIENCE',79],\n",
    "    ['ENGLISH',80],\n",
    "]],\n",
    "['AIZEN',[\n",
    "    ['MATHS',78],\n",
    "    ['SCIENCE',79],\n",
    "    ['ENGLISH',80],\n",
    "]],\n",
    "['YAMATO',[\n",
    "    ['MATHS',78],\n",
    "    ['SCIENCE',79],\n",
    "    ['ENGLISH',80],\n",
    "]],\n",
    "['KAMPACHI',[\n",
    "    ['MATHS',78],\n",
    "    ['SCIENCE',79],\n",
    "    ['ENGLISH',90],\n",
    "]],\n",
    "['HOLLOW',[\n",
    "    ['MATHS',98],\n",
    "    ['SCIENCE',99],\n",
    "    ['ENGLISH',90],\n",
    "]],\n",
    "['ASTA',[\n",
    "    ['MATHS',70],\n",
    "    ['SCIENCE',71],\n",
    "    ['ENGLISH',81],\n",
    "]],\n",
    "['YAMI',[\n",
    "    ['MATHS',89],\n",
    "    ['SCIENCE',99],\n",
    "    ['ENGLISH',80],\n",
    "]],\n",
    "]\n"
   ]
  },
  {
   "cell_type": "code",
   "execution_count": 45,
   "metadata": {},
   "outputs": [
    {
     "name": "stdout",
     "output_type": "stream",
     "text": [
      "['ICHIGO', [['MATHS', 78], ['SCIENCE', 79], ['ENGLISH', 80]]]\n",
      "['AIZEN', [['MATHS', 78], ['SCIENCE', 79], ['ENGLISH', 80]]]\n",
      "['YAMATO', [['MATHS', 78], ['SCIENCE', 79], ['ENGLISH', 80]]]\n",
      "['KAMPACHI', [['MATHS', 78], ['SCIENCE', 79], ['ENGLISH', 90]]]\n",
      "['HOLLOW', [['MATHS', 98], ['SCIENCE', 99], ['ENGLISH', 90]]]\n",
      "['ASTA', [['MATHS', 70], ['SCIENCE', 71], ['ENGLISH', 81]]]\n",
      "['YAMI', [['MATHS', 89], ['SCIENCE', 99], ['ENGLISH', 80]]]\n"
     ]
    }
   ],
   "source": [
    "for student in reports:\n",
    "       print(student)"
   ]
  },
  {
   "cell_type": "code",
   "execution_count": 46,
   "metadata": {},
   "outputs": [
    {
     "name": "stdout",
     "output_type": "stream",
     "text": [
      "[['ICHIGO', [['MATHS', 78], ['SCIENCE', 79], ['ENGLISH', 80]]], ['AIZEN', [['MATHS', 78], ['SCIENCE', 79], ['ENGLISH', 80]]], ['YAMATO', [['MATHS', 78], ['SCIENCE', 79], ['ENGLISH', 80]]], ['KAMPACHI', [['MATHS', 78], ['SCIENCE', 79], ['ENGLISH', 90]]], ['HOLLOW', [['MATHS', 98], ['SCIENCE', 99], ['ENGLISH', 90]]], ['ASTA', [['MATHS', 70], ['SCIENCE', 71], ['ENGLISH', 81]]], ['YAMI', [['MATHS', 89], ['SCIENCE', 99], ['ENGLISH', 80]]]]\n"
     ]
    }
   ],
   "source": [
    "print(reports)"
   ]
  },
  {
   "cell_type": "code",
   "execution_count": null,
   "metadata": {},
   "outputs": [],
   "source": []
  }
 ],
 "metadata": {
  "kernelspec": {
   "display_name": "base",
   "language": "python",
   "name": "python3"
  },
  "language_info": {
   "codemirror_mode": {
    "name": "ipython",
    "version": 3
   },
   "file_extension": ".py",
   "mimetype": "text/x-python",
   "name": "python",
   "nbconvert_exporter": "python",
   "pygments_lexer": "ipython3",
   "version": "3.10.10"
  },
  "orig_nbformat": 4
 },
 "nbformat": 4,
 "nbformat_minor": 2
}

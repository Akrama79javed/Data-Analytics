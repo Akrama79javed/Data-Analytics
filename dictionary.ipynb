{
 "cells": [
  {
   "cell_type": "code",
   "execution_count": 43,
   "metadata": {},
   "outputs": [],
   "source": [
    "# cereting dictionary \n",
    "\n",
    "fruits = {\n",
    "    'apple': 2,\n",
    "    'bannna': 3,\n",
    "    'orange': 4,\n",
    "}"
   ]
  },
  {
   "cell_type": "code",
   "execution_count": 44,
   "metadata": {},
   "outputs": [],
   "source": [
    "grocery = {\n",
    "    'fruits' :['apple','banana','orange','grape'],\n",
    "    'vegetables' :['carrot','lettuce','onion'],\n",
    "    'dairy':['milk','chesse','yogort'],\n",
    "\n",
    "}"
   ]
  },
  {
   "cell_type": "code",
   "execution_count": 45,
   "metadata": {},
   "outputs": [],
   "source": [
    "reports={\n",
    "    'rajesh':{\n",
    "        'english':98,\n",
    "        'maths':78,\n",
    "        'science':67,\n",
    "    },\n",
    "    'suresh': {\n",
    "        'english':78,\n",
    "        'maths':89,\n",
    "        'science':80,\n",
    "    },\n",
    "}"
   ]
  },
  {
   "cell_type": "code",
   "execution_count": 46,
   "metadata": {},
   "outputs": [
    {
     "name": "stdout",
     "output_type": "stream",
     "text": [
      "{'apple': 2, 'bannna': 3, 'orange': 4}\n",
      "{'fruits': ['apple', 'banana', 'orange', 'grape'], 'vegetables': ['carrot', 'lettuce', 'onion'], 'dairy': ['milk', 'chesse', 'yogort']}\n",
      "{'rajesh': {'english': 98, 'maths': 78, 'science': 67}, 'suresh': {'english': 78, 'maths': 89, 'science': 80}}\n"
     ]
    }
   ],
   "source": [
    "print(fruits)\n",
    "print(grocery)\n",
    "print(reports)\n"
   ]
  },
  {
   "cell_type": "code",
   "execution_count": 47,
   "metadata": {},
   "outputs": [],
   "source": [
    "from pprint import pp"
   ]
  },
  {
   "cell_type": "code",
   "execution_count": 48,
   "metadata": {},
   "outputs": [
    {
     "name": "stdout",
     "output_type": "stream",
     "text": [
      "{'apple': 2, 'bannna': 3, 'orange': 4}\n",
      "{'fruits': ['apple', 'banana', 'orange', 'grape'],\n",
      " 'vegetables': ['carrot', 'lettuce', 'onion'],\n",
      " 'dairy': ['milk', 'chesse', 'yogort']}\n",
      "{'rajesh': {'english': 98, 'maths': 78, 'science': 67},\n",
      " 'suresh': {'english': 78, 'maths': 89, 'science': 80}}\n"
     ]
    }
   ],
   "source": [
    "pp(fruits)\n",
    "pp(grocery)\n",
    "pp(reports)"
   ]
  },
  {
   "cell_type": "code",
   "execution_count": 49,
   "metadata": {},
   "outputs": [
    {
     "data": {
      "text/plain": [
       "2"
      ]
     },
     "execution_count": 49,
     "metadata": {},
     "output_type": "execute_result"
    }
   ],
   "source": [
    "fruits['apple'] # retrive the value from dictonary"
   ]
  },
  {
   "cell_type": "code",
   "execution_count": 50,
   "metadata": {},
   "outputs": [
    {
     "name": "stdout",
     "output_type": "stream",
     "text": [
      "{'apple': 10, 'bannna': 3, 'orange': 4}\n"
     ]
    }
   ],
   "source": [
    "fruits['apple'] = 10 # update the value in dictonary\n",
    "pp(fruits)"
   ]
  },
  {
   "cell_type": "code",
   "execution_count": 51,
   "metadata": {},
   "outputs": [
    {
     "name": "stdout",
     "output_type": "stream",
     "text": [
      "{'apple': 10, 'bannna': 3, 'orange': 4, 'mango': 25}\n"
     ]
    }
   ],
   "source": [
    "fruits['mango'] = 25 # add new key value pair in ddictonary\n",
    "pp(fruits)"
   ]
  },
  {
   "cell_type": "code",
   "execution_count": 52,
   "metadata": {},
   "outputs": [
    {
     "name": "stdout",
     "output_type": "stream",
     "text": [
      "{'fruits': ['apple', 'banana', 'orange', 'grape'],\n",
      " 'vegetables': ['carrot', 'lettuce', 'onion'],\n",
      " 'dairy': ['milk', 'chesse', 'yogort'],\n",
      " 'spices': ['cumin', 'coriander', 'turmeric']}\n"
     ]
    }
   ],
   "source": [
    "grocery['spices'] = ['cumin','coriander','turmeric'] # add new key-value pair in dictonary\n",
    "pp(grocery)"
   ]
  },
  {
   "cell_type": "code",
   "execution_count": 53,
   "metadata": {},
   "outputs": [
    {
     "name": "stdout",
     "output_type": "stream",
     "text": [
      "{'fruits': ['apple', 'banana', 'orange', 'grape', 'mango'],\n",
      " 'vegetables': ['carrot', 'lettuce', 'onion'],\n",
      " 'dairy': ['milk', 'chesse', 'yogort'],\n",
      " 'spices': ['cumin', 'coriander', 'turmeric']}\n"
     ]
    }
   ],
   "source": [
    "grocery['fruits'].append('mango') #add new value inn list \n",
    "pp(grocery)"
   ]
  },
  {
   "cell_type": "code",
   "execution_count": 54,
   "metadata": {},
   "outputs": [
    {
     "name": "stdout",
     "output_type": "stream",
     "text": [
      "{'rajesh': {'english': 98, 'maths': 78, 'science': 67, 'evs': 99},\n",
      " 'suresh': {'english': 78, 'maths': 89, 'science': 80}}\n"
     ]
    }
   ],
   "source": [
    "reports['rajesh']['evs']=99\n",
    "pp(reports)"
   ]
  },
  {
   "cell_type": "code",
   "execution_count": 55,
   "metadata": {},
   "outputs": [
    {
     "name": "stdout",
     "output_type": "stream",
     "text": [
      "{'apple': 10, 'bannna': 3, 'orange': 4, 'mango': 25}\n"
     ]
    }
   ],
   "source": [
    "pp(fruits)"
   ]
  },
  {
   "cell_type": "code",
   "execution_count": 56,
   "metadata": {},
   "outputs": [
    {
     "data": {
      "text/plain": [
       "3"
      ]
     },
     "execution_count": 56,
     "metadata": {},
     "output_type": "execute_result"
    }
   ],
   "source": [
    "fruits.pop('bannna') # remove key-value pair from dictonary "
   ]
  },
  {
   "cell_type": "code",
   "execution_count": 57,
   "metadata": {},
   "outputs": [
    {
     "data": {
      "text/plain": [
       "{'english': 98, 'maths': 78, 'science': 67, 'evs': 99}"
      ]
     },
     "execution_count": 57,
     "metadata": {},
     "output_type": "execute_result"
    }
   ],
   "source": [
    "reports.pop('rajesh')  # remove key-value pair from dictonary "
   ]
  },
  {
   "cell_type": "code",
   "execution_count": 58,
   "metadata": {},
   "outputs": [
    {
     "data": {
      "text/plain": [
       "{'suresh': {'english': 78, 'maths': 89, 'science': 80}}"
      ]
     },
     "execution_count": 58,
     "metadata": {},
     "output_type": "execute_result"
    }
   ],
   "source": [
    "reports"
   ]
  },
  {
   "cell_type": "code",
   "execution_count": 59,
   "metadata": {},
   "outputs": [
    {
     "name": "stdout",
     "output_type": "stream",
     "text": [
      "{'fruits': ['apple', 'banana', 'orange', 'grape', 'mango'],\n",
      " 'vegetables': ['carrot', 'lettuce', 'onion'],\n",
      " 'dairy': ['milk', 'chesse', 'yogort'],\n",
      " 'spices': ['cumin', 'coriander', 'turmeric']}\n"
     ]
    }
   ],
   "source": [
    "pp(grocery)"
   ]
  },
  {
   "cell_type": "code",
   "execution_count": 60,
   "metadata": {},
   "outputs": [],
   "source": [
    "grocery['vegetables'].remove('onion') # remove value from list "
   ]
  },
  {
   "cell_type": "code",
   "execution_count": 61,
   "metadata": {},
   "outputs": [
    {
     "name": "stdout",
     "output_type": "stream",
     "text": [
      "{'fruits': ['apple', 'banana', 'orange', 'grape', 'mango'],\n",
      " 'vegetables': ['carrot', 'lettuce'],\n",
      " 'dairy': ['milk', 'chesse', 'yogort'],\n",
      " 'spices': ['cumin', 'coriander', 'turmeric']}\n"
     ]
    }
   ],
   "source": [
    "pp(grocery)"
   ]
  },
  {
   "cell_type": "code",
   "execution_count": 63,
   "metadata": {},
   "outputs": [
    {
     "data": {
      "text/plain": [
       "dict_keys(['apple', 'orange', 'mango'])"
      ]
     },
     "execution_count": 63,
     "metadata": {},
     "output_type": "execute_result"
    }
   ],
   "source": [
    "fruits.keys() # get all key from dictonary"
   ]
  },
  {
   "cell_type": "code",
   "execution_count": 67,
   "metadata": {},
   "outputs": [
    {
     "data": {
      "text/plain": [
       "dict_values([10, 4, 25])"
      ]
     },
     "execution_count": 67,
     "metadata": {},
     "output_type": "execute_result"
    }
   ],
   "source": [
    "fruits.values()# get all the value from dictonary"
   ]
  },
  {
   "cell_type": "code",
   "execution_count": 69,
   "metadata": {},
   "outputs": [
    {
     "data": {
      "text/plain": [
       "dict_items([('apple', 10), ('orange', 4), ('mango', 25)])"
      ]
     },
     "execution_count": 69,
     "metadata": {},
     "output_type": "execute_result"
    }
   ],
   "source": [
    "fruits.items() # get all key value pair from dictonary"
   ]
  },
  {
   "cell_type": "code",
   "execution_count": 70,
   "metadata": {},
   "outputs": [],
   "source": [
    "# traversal"
   ]
  },
  {
   "cell_type": "code",
   "execution_count": 71,
   "metadata": {},
   "outputs": [
    {
     "name": "stdout",
     "output_type": "stream",
     "text": [
      "apple 10\n",
      "orange 4\n",
      "mango 25\n"
     ]
    }
   ],
   "source": [
    "for k,v in fruits.items():\n",
    "    print(k,v)"
   ]
  },
  {
   "cell_type": "code",
   "execution_count": 73,
   "metadata": {},
   "outputs": [
    {
     "data": {
      "text/plain": [
       "78"
      ]
     },
     "execution_count": 73,
     "metadata": {},
     "output_type": "execute_result"
    }
   ],
   "source": [
    "reports['suresh']['english']"
   ]
  },
  {
   "cell_type": "code",
   "execution_count": 74,
   "metadata": {},
   "outputs": [
    {
     "data": {
      "text/plain": [
       "{'english': 78, 'maths': 89, 'science': 80}"
      ]
     },
     "execution_count": 74,
     "metadata": {},
     "output_type": "execute_result"
    }
   ],
   "source": [
    "reports.get('suresh')"
   ]
  },
  {
   "cell_type": "code",
   "execution_count": 75,
   "metadata": {},
   "outputs": [],
   "source": [
    "reports.get('ramesh')"
   ]
  },
  {
   "cell_type": "code",
   "execution_count": 76,
   "metadata": {},
   "outputs": [
    {
     "data": {
      "text/plain": [
       "'this guy is not in soul society'"
      ]
     },
     "execution_count": 76,
     "metadata": {},
     "output_type": "execute_result"
    }
   ],
   "source": [
    "reports.get('ramesh', 'this guy is not in soul society')"
   ]
  },
  {
   "cell_type": "code",
   "execution_count": 78,
   "metadata": {},
   "outputs": [
    {
     "data": {
      "text/plain": [
       "{'english': 78, 'maths': 89, 'science': 80}"
      ]
     },
     "execution_count": 78,
     "metadata": {},
     "output_type": "execute_result"
    }
   ],
   "source": [
    "reports.get('suresh' ,'this guy is not in soul society')"
   ]
  },
  {
   "cell_type": "code",
   "execution_count": 79,
   "metadata": {},
   "outputs": [
    {
     "name": "stdout",
     "output_type": "stream",
     "text": [
      "{'suresh': {'english': 78, 'maths': 89, 'science': 80},\n",
      " 'sunita': {'english': 90, 'maths': 80, 'science': 70}}\n"
     ]
    }
   ],
   "source": [
    "reports['sunita']= {\n",
    "    'english':90,\n",
    "    'maths':80,\n",
    "    'science':70,\n",
    "}\n",
    "pp(reports)"
   ]
  },
  {
   "cell_type": "code",
   "execution_count": 88,
   "metadata": {},
   "outputs": [
    {
     "name": "stdout",
     "output_type": "stream",
     "text": [
      "suresh\n",
      "78 in english\n",
      "89 in maths\n",
      "80 in science\n",
      "------------------------------\n",
      "sunita\n",
      "90 in english\n",
      "80 in maths\n",
      "70 in science\n",
      "------------------------------\n"
     ]
    }
   ],
   "source": [
    "for student, details in reports.items():\n",
    "    print(student)\n",
    "    for subject,marks in details.items():\n",
    "        print(f'{marks} in {subject}')\n",
    "    print('---'*10)"
   ]
  },
  {
   "cell_type": "code",
   "execution_count": 89,
   "metadata": {},
   "outputs": [],
   "source": [
    "employee={\n",
    "    'e1': {\n",
    "        'name': 'AIZEN',\n",
    "        'department': 'IT',\n",
    "        'salary': 50000,\n",
    "        'skills':['communication','managment'],\n",
    "        'projects': {\n",
    "            'project1':{\n",
    "                'project name' : 'MS',\n",
    "                'project_duration': 6,\n",
    "                'project_technology':['excel','power bi','powerpoint']\n",
    "            },\n",
    "        }\n",
    "    },\n",
    "    'e2': {\n",
    "        'name': 'ASTA',\n",
    "        'department': 'manager',\n",
    "        'salary': 60000,\n",
    "        'skills':['communication','managment','excel'],\n",
    "        'projects': {\n",
    "            'project1':{\n",
    "                'project name' : 'MANAGE',\n",
    "                'project_duration': 7,\n",
    "                'project_technology':['excel','power bi','powerpoint']\n",
    "            },\n",
    "        }\n",
    "    },\n",
    "    'e3': {\n",
    "        'name': 'SHIKAMARU',\n",
    "        'department': 'HR',\n",
    "        'salary': 80000,\n",
    "        'skills':['communication','managment'],\n",
    "        'projects': {\n",
    "            'project1':{\n",
    "                'project name' : 'HRMS',\n",
    "                'project_duration': 4,\n",
    "                'project_technology':['excel','power bi','powerpoint']\n",
    "            },\n",
    "        }\n",
    "    },\n",
    "    'e4': {\n",
    "        'name': 'SASUKE',\n",
    "        'department': 'SURVEY',\n",
    "        'salary': 40000,\n",
    "        'skills':['communication','managment'],\n",
    "        'projects': {\n",
    "            'project1':{\n",
    "                'project name' : 'E-COMMERCE',\n",
    "                'project_duration': 3,\n",
    "                'project_technology':['excel','power bi','powerpoint']\n",
    "            },\n",
    "        }\n",
    "    },\n",
    "    'e5': {\n",
    "        'name': 'JIRAYA',\n",
    "        'department': 'SECURITY',\n",
    "        'salary': 50000,\n",
    "        'skills':['communication','managment'],\n",
    "        'projects': {\n",
    "            'project1':{\n",
    "                'project name' : 'BRECHERS',\n",
    "                'project_duration': 6,\n",
    "                'project_technology':['excel','power bi','powerpoint']\n",
    "            },\n",
    "        }\n",
    "    },\n",
    "}\n",
    "\n"
   ]
  },
  {
   "cell_type": "code",
   "execution_count": 91,
   "metadata": {},
   "outputs": [
    {
     "name": "stdout",
     "output_type": "stream",
     "text": [
      "{'e1': {'name': 'AIZEN', 'department': 'IT', 'salary': 50000, 'skills': ['communication', 'managment'], 'projects': {'project1': {'project name': 'MS', 'project_duration': 6, 'project_technology': ['excel', 'power bi', 'powerpoint']}}}, 'e2': {'name': 'ASTA', 'department': 'manager', 'salary': 60000, 'skills': ['communication', 'managment', 'excel'], 'projects': {'project1': {'project name': 'MANAGE', 'project_duration': 7, 'project_technology': ['excel', 'power bi', 'powerpoint']}}}, 'e3': {'name': 'SHIKAMARU', 'department': 'HR', 'salary': 80000, 'skills': ['communication', 'managment'], 'projects': {'project1': {'project name': 'HRMS', 'project_duration': 4, 'project_technology': ['excel', 'power bi', 'powerpoint']}}}, 'e4': {'name': 'SASUKE', 'department': 'SURVEY', 'salary': 40000, 'skills': ['communication', 'managment'], 'projects': {'project1': {'project name': 'E-COMMERCE', 'project_duration': 3, 'project_technology': ['excel', 'power bi', 'powerpoint']}}}, 'e5': {'name': 'JIRAYA', 'department': 'SECURITY', 'salary': 50000, 'skills': ['communication', 'managment'], 'projects': {'project1': {'project name': 'BRECHERS', 'project_duration': 6, 'project_technology': ['excel', 'power bi', 'powerpoint']}}}}\n",
      "{'e1': {'name': 'AIZEN',\n",
      "        'department': 'IT',\n",
      "        'salary': 50000,\n",
      "        'skills': ['communication', 'managment'],\n",
      "        'projects': {'project1': {'project name': 'MS',\n",
      "                                  'project_duration': 6,\n",
      "                                  'project_technology': ['excel',\n",
      "                                                         'power bi',\n",
      "                                                         'powerpoint']}}},\n",
      " 'e2': {'name': 'ASTA',\n",
      "        'department': 'manager',\n",
      "        'salary': 60000,\n",
      "        'skills': ['communication', 'managment', 'excel'],\n",
      "        'projects': {'project1': {'project name': 'MANAGE',\n",
      "                                  'project_duration': 7,\n",
      "                                  'project_technology': ['excel',\n",
      "                                                         'power bi',\n",
      "                                                         'powerpoint']}}},\n",
      " 'e3': {'name': 'SHIKAMARU',\n",
      "        'department': 'HR',\n",
      "        'salary': 80000,\n",
      "        'skills': ['communication', 'managment'],\n",
      "        'projects': {'project1': {'project name': 'HRMS',\n",
      "                                  'project_duration': 4,\n",
      "                                  'project_technology': ['excel',\n",
      "                                                         'power bi',\n",
      "                                                         'powerpoint']}}},\n",
      " 'e4': {'name': 'SASUKE',\n",
      "        'department': 'SURVEY',\n",
      "        'salary': 40000,\n",
      "        'skills': ['communication', 'managment'],\n",
      "        'projects': {'project1': {'project name': 'E-COMMERCE',\n",
      "                                  'project_duration': 3,\n",
      "                                  'project_technology': ['excel',\n",
      "                                                         'power bi',\n",
      "                                                         'powerpoint']}}},\n",
      " 'e5': {'name': 'JIRAYA',\n",
      "        'department': 'SECURITY',\n",
      "        'salary': 50000,\n",
      "        'skills': ['communication', 'managment'],\n",
      "        'projects': {'project1': {'project name': 'BRECHERS',\n",
      "                                  'project_duration': 6,\n",
      "                                  'project_technology': ['excel',\n",
      "                                                         'power bi',\n",
      "                                                         'powerpoint']}}}}\n"
     ]
    }
   ],
   "source": [
    "print(employee)\n",
    "pp(employee)"
   ]
  },
  {
   "cell_type": "code",
   "execution_count": null,
   "metadata": {},
   "outputs": [],
   "source": []
  }
 ],
 "metadata": {
  "kernelspec": {
   "display_name": "base",
   "language": "python",
   "name": "python3"
  },
  "language_info": {
   "codemirror_mode": {
    "name": "ipython",
    "version": 3
   },
   "file_extension": ".py",
   "mimetype": "text/x-python",
   "name": "python",
   "nbconvert_exporter": "python",
   "pygments_lexer": "ipython3",
   "version": "3.10.10"
  },
  "orig_nbformat": 4
 },
 "nbformat": 4,
 "nbformat_minor": 2
}

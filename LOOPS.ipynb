{
 "cells": [
  {
   "cell_type": "code",
   "execution_count": 2,
   "metadata": {},
   "outputs": [
    {
     "name": "stdout",
     "output_type": "stream",
     "text": [
      "apple\n",
      "orange\n",
      "banana\n",
      "melon\n",
      "mango\n",
      "cherrry\n"
     ]
    }
   ],
   "source": [
    "fruits = ['apple','orange','banana','melon','mango','cherrry']\n",
    "for fruit in fruits :\n",
    "    print(fruit)"
   ]
  },
  {
   "cell_type": "code",
   "execution_count": 3,
   "metadata": {},
   "outputs": [
    {
     "name": "stdout",
     "output_type": "stream",
     "text": [
      "(0, 'apple')\n",
      "(1, 'orange')\n",
      "(2, 'banana')\n",
      "(3, 'melon')\n",
      "(4, 'mango')\n",
      "(5, 'cherrry')\n"
     ]
    }
   ],
   "source": [
    "for item in enumerate (fruits):\n",
    "    print(item)"
   ]
  },
  {
   "cell_type": "code",
   "execution_count": 9,
   "metadata": {},
   "outputs": [
    {
     "name": "stdout",
     "output_type": "stream",
     "text": [
      "0 apple\n",
      "1 orange\n",
      "2 banana\n",
      "3 melon\n",
      "4 mango\n",
      "5 cherrry\n"
     ]
    }
   ],
   "source": [
    "count = 0\n",
    "for fruit in fruits :\n",
    "    print(count, fruit)\n",
    "    count+=1"
   ]
  },
  {
   "cell_type": "code",
   "execution_count": 15,
   "metadata": {},
   "outputs": [
    {
     "name": "stdout",
     "output_type": "stream",
     "text": [
      "0=>apple\n",
      "1=>orange\n",
      "2=>banana\n",
      "3=>melon\n",
      "4=>mango\n",
      "5=>cherrry\n"
     ]
    }
   ],
   "source": [
    "for idx ,val in enumerate(fruits):\n",
    "    print(f'{idx}=>{val}')"
   ]
  },
  {
   "cell_type": "code",
   "execution_count": 18,
   "metadata": {},
   "outputs": [
    {
     "name": "stdout",
     "output_type": "stream",
     "text": [
      "0 apple\n",
      "2 banana\n",
      "4 mango\n"
     ]
    }
   ],
   "source": [
    "for idx ,val in enumerate(fruits):\n",
    "    if idx % 2 == 0 :\n",
    "        print( idx,val)"
   ]
  },
  {
   "cell_type": "code",
   "execution_count": 25,
   "metadata": {},
   "outputs": [
    {
     "name": "stdout",
     "output_type": "stream",
     "text": [
      "0 apple\n",
      "1 orange\n",
      "2 banana\n"
     ]
    }
   ],
   "source": [
    "for idx , val in enumerate(fruits):\n",
    "    if idx == 3:\n",
    "        break\n",
    "    print (idx,val)"
   ]
  },
  {
   "cell_type": "code",
   "execution_count": 26,
   "metadata": {},
   "outputs": [
    {
     "name": "stdout",
     "output_type": "stream",
     "text": [
      "1 3 6\n",
      "5 5 2\n",
      "6 7 9\n"
     ]
    }
   ],
   "source": [
    "x=[1,5,6]\n",
    "y=[3,5,7]\n",
    "z=[6,2,9,8]\n",
    "for i,j,k in zip(x,y,z):\n",
    "    print(i,j,k)\n"
   ]
  },
  {
   "cell_type": "code",
   "execution_count": 29,
   "metadata": {},
   "outputs": [
    {
     "name": "stdout",
     "output_type": "stream",
     "text": [
      "10 12 22 "
     ]
    }
   ],
   "source": [
    "for i,j,k in zip(x,y,z):\n",
    "    print (i + j + k , end=' ')\n",
    "    "
   ]
  },
  {
   "cell_type": "code",
   "execution_count": 30,
   "metadata": {},
   "outputs": [
    {
     "name": "stdout",
     "output_type": "stream",
     "text": [
      "1\n",
      "5\n",
      "6\n",
      "loop complete\n"
     ]
    }
   ],
   "source": [
    "for i in x :\n",
    "    print (i)\n",
    "print('loop complete')"
   ]
  },
  {
   "cell_type": "code",
   "execution_count": 33,
   "metadata": {},
   "outputs": [
    {
     "name": "stdout",
     "output_type": "stream",
     "text": [
      "1\n",
      "5\n",
      "6\n",
      "loop  complete\n"
     ]
    }
   ],
   "source": [
    "for i in x:\n",
    "    if i==2:\n",
    "        break \n",
    "    print(i)\n",
    "else:\n",
    "    print('loop  complete')"
   ]
  },
  {
   "cell_type": "code",
   "execution_count": 36,
   "metadata": {},
   "outputs": [
    {
     "name": "stdout",
     "output_type": "stream",
     "text": [
      "prime\n"
     ]
    }
   ],
   "source": [
    "n=19\n",
    "for i in range (2 , n):\n",
    "    if n % i==0 :\n",
    "        print('not prime')\n",
    "        break\n",
    "    else:\n",
    "        print('prime')\n",
    "        break"
   ]
  },
  {
   "cell_type": "code",
   "execution_count": 38,
   "metadata": {},
   "outputs": [
    {
     "name": "stdout",
     "output_type": "stream",
     "text": [
      "You Entered 12\n"
     ]
    }
   ],
   "source": [
    "s = 0\n",
    "while s < 10 :\n",
    "    s = int(input('Enter the value of X :'  ))\n",
    "    print(f\"You Entered {s}\")"
   ]
  },
  {
   "cell_type": "code",
   "execution_count": 39,
   "metadata": {},
   "outputs": [
    {
     "name": "stdout",
     "output_type": "stream",
     "text": [
      "52+63=115\n",
      "122+144=266\n",
      "133+244=377\n",
      "122+444=566\n"
     ]
    }
   ],
   "source": [
    "#infinite while loop\n",
    "\n",
    "while True :\n",
    "    a = int(input('Enter a value of a '))\n",
    "    b = int(input('Enter a value of b '))\n",
    "    total = a+b\n",
    "    print(f'{a}+{b}={total}')\n",
    "    if input('Do want to Continue ?? Y/N') == 'N' :\n",
    "        break"
   ]
  },
  {
   "cell_type": "code",
   "execution_count": 40,
   "metadata": {},
   "outputs": [
    {
     "name": "stdout",
     "output_type": "stream",
     "text": [
      "once upon  a time there was a killer \n",
      "that died by himself \n",
      "story end \n",
      "N\n",
      "\n"
     ]
    }
   ],
   "source": [
    "#Write a story\n",
    " \n",
    "story = ''\n",
    "while True :\n",
    "    line = input(\"Enter lines of your Story : \")\n",
    "    if line :\n",
    "        story += line + '\\n'\n",
    "    else:\n",
    "        break\n",
    "print(story)"
   ]
  },
  {
   "cell_type": "code",
   "execution_count": null,
   "metadata": {},
   "outputs": [],
   "source": []
  }
 ],
 "metadata": {
  "kernelspec": {
   "display_name": "base",
   "language": "python",
   "name": "python3"
  },
  "language_info": {
   "codemirror_mode": {
    "name": "ipython",
    "version": 3
   },
   "file_extension": ".py",
   "mimetype": "text/x-python",
   "name": "python",
   "nbconvert_exporter": "python",
   "pygments_lexer": "ipython3",
   "version": "3.10.10"
  },
  "orig_nbformat": 4
 },
 "nbformat": 4,
 "nbformat_minor": 2
}
